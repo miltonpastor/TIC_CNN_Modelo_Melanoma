{
  "nbformat": 4,
  "nbformat_minor": 0,
  "metadata": {
    "colab": {
      "provenance": []
    },
    "kernelspec": {
      "name": "python3",
      "display_name": "Python 3"
    },
    "language_info": {
      "name": "python"
    }
  },
  "cells": [
    {
      "cell_type": "code",
      "source": [
        "import pandas as pd\n",
        "import os\n",
        "from google.colab import drive\n",
        "from sklearn.model_selection import train_test_split"
      ],
      "metadata": {
        "id": "dELW0La-ze4R"
      },
      "execution_count": 2,
      "outputs": []
    },
    {
      "cell_type": "code",
      "execution_count": 4,
      "metadata": {
        "id": "fKKhEv-pkfPd",
        "colab": {
          "base_uri": "https://localhost:8080/"
        },
        "outputId": "684f0c57-e4f6-40ef-f5ab-e305d2f36f40"
      },
      "outputs": [
        {
          "output_type": "stream",
          "name": "stdout",
          "text": [
            "Mounted at /content/drive\n"
          ]
        }
      ],
      "source": [
        "drive.mount('/content/drive')"
      ]
    },
    {
      "cell_type": "code",
      "source": [
        "# Configurar rutas\n",
        "csv_path = '/content/drive/MyDrive/DatasetTIC/bcn20000_metadata_2025-07-22.csv'\n",
        "images_folder = '/content/drive/MyDrive/DatasetTIC/ISIC-images'\n",
        "output_folder = '/content/drive/MyDrive/Modelo_CNN'\n",
        "\n",
        "os.makedirs(output_folder, exist_ok=True)\n",
        "\n",
        "# Nombres de columnas en tu CSV\n",
        "ID_COLUMN = 'isic_id'  # Columna con el ID/nombre de la imagen\n",
        "DIAGNOSIS_COLUMN = 'diagnosis_1'  # Columna con el diagnóstico"
      ],
      "metadata": {
        "id": "Xd_3NZTSzMW_"
      },
      "execution_count": null,
      "outputs": []
    },
    {
      "cell_type": "code",
      "source": [
        "df = pd.read_csv(csv_path)\n",
        "print(f\"Total de imágenes: {len(df)}\")\n",
        "print(f\"Distribución de clases:\\n{df['diagnosis_1'].value_counts()}\")"
      ],
      "metadata": {
        "id": "Ag-9QLw3059g",
        "colab": {
          "base_uri": "https://localhost:8080/"
        },
        "outputId": "cdaf57ac-620c-4774-b4b6-516b5ef5a72e"
      },
      "execution_count": null,
      "outputs": [
        {
          "output_type": "stream",
          "name": "stdout",
          "text": [
            "Total de imágenes: 18946\n",
            "Distribución de clases:\n",
            "diagnosis_1\n",
            "Malignant        8871\n",
            "Benign           7831\n",
            "Indeterminate    1088\n",
            "Name: count, dtype: int64\n"
          ]
        }
      ]
    },
    {
      "cell_type": "code",
      "source": [
        "#LIMPIEZA Y ETIQUETADO BINARIO\n",
        "\n",
        "# Filtrar solo Benign y Malignant\n",
        "df_clean = df[df[DIAGNOSIS_COLUMN].isin(['Benign', 'Malignant'])].copy()\n",
        "\n",
        "\n",
        "# Crear etiquetas binarias: Benign=0, Malignant=1\n",
        "label_mapping = {\n",
        "    'Benign': 0,\n",
        "    'Malignant': 1\n",
        "}\n",
        "\n",
        "df_clean['label'] = df_clean[DIAGNOSIS_COLUMN].map(label_mapping)\n",
        "\n",
        "# Solo columnas necesarias: filepath y label\n",
        "df_simple = pd.DataFrame({\n",
        "    'filepath': df_clean[ID_COLUMN].apply(lambda x: f\"{images_folder}/{x}.jpg\"),\n",
        "    'label': df_clean['label']\n",
        "})\n",
        "\n",
        "print(f\"\\nTotal de registros: {len(df_simple):,}\")\n",
        "print(f\"\\nDistribución de clases:\")\n",
        "class_counts_clean = df_simple['label'].value_counts()\n",
        "print(class_counts_clean)\n",
        "print(f\"\\nProporción:\")\n",
        "print(df_simple['label'].value_counts(normalize=True) * 100)\n",
        "\n"
      ],
      "metadata": {
        "id": "Njk8gY63NOvt",
        "colab": {
          "base_uri": "https://localhost:8080/"
        },
        "outputId": "de6f2ac4-2fc1-436a-a2d8-614459af7de3"
      },
      "execution_count": null,
      "outputs": [
        {
          "output_type": "stream",
          "name": "stdout",
          "text": [
            "\n",
            "Total de registros: 16,702\n",
            "\n",
            "Distribución de clases:\n",
            "label\n",
            "1    8871\n",
            "0    7831\n",
            "Name: count, dtype: int64\n",
            "\n",
            "Proporción:\n",
            "label\n",
            "1    53.1134\n",
            "0    46.8866\n",
            "Name: proportion, dtype: float64\n"
          ]
        }
      ]
    },
    {
      "cell_type": "code",
      "source": [
        "# DIVISION\n",
        "\n",
        "# Primero: 70% train, 30% temp\n",
        "train_df, temp_df = train_test_split(\n",
        "    df_simple,\n",
        "    test_size=0.30,\n",
        "    stratify=df_simple['label'],\n",
        "    random_state=42,\n",
        "    shuffle=True\n",
        ")\n",
        "\n",
        "# Segundo: dividir temp en 50-50 (15% val, 15% test del total)\n",
        "val_df, test_df = train_test_split(\n",
        "    temp_df,\n",
        "    test_size=0.50,\n",
        "    stratify=temp_df['label'],\n",
        "    random_state=42,\n",
        "    shuffle=True\n",
        ")\n",
        "\n",
        "\n",
        "print(f\"\\nTrain: {len(train_df)} ({len(train_df)/len(df_simple)*100:.1f}%)\")\n",
        "print(f\"Val: {len(val_df)} ({len(val_df)/len(df_simple)*100:.1f}%)\")\n",
        "print(f\"Test: {len(test_df)} ({len(test_df)/len(df_simple)*100:.1f}%)\")"
      ],
      "metadata": {
        "id": "YjG4CkiH2W9J",
        "colab": {
          "base_uri": "https://localhost:8080/"
        },
        "outputId": "800fcc9e-a310-4af9-9b9e-dda7d4380673"
      },
      "execution_count": null,
      "outputs": [
        {
          "output_type": "stream",
          "name": "stdout",
          "text": [
            "\n",
            "Train: 11691 (70.0%)\n",
            "Val: 2505 (15.0%)\n",
            "Test: 2506 (15.0%)\n"
          ]
        }
      ]
    },
    {
      "cell_type": "code",
      "source": [
        "# Verificar estratificación\n",
        "print(\"\\n--- Distribución por split ---\")\n",
        "for name, split_df in [('Train', train_df), ('Val', val_df), ('Test', test_df)]:\n",
        "    print(f\"{name}:\\n{split_df['label'].value_counts(normalize=True)}\\n\")"
      ],
      "metadata": {
        "id": "J6g5MkJeGqoU",
        "colab": {
          "base_uri": "https://localhost:8080/"
        },
        "outputId": "e19658f9-b927-4518-f748-659f488907cc"
      },
      "execution_count": null,
      "outputs": [
        {
          "output_type": "stream",
          "name": "stdout",
          "text": [
            "\n",
            "--- Distribución por split ---\n",
            "Train:\n",
            "label\n",
            "1    0.531092\n",
            "0    0.468908\n",
            "Name: proportion, dtype: float64\n",
            "\n",
            "Val:\n",
            "label\n",
            "1    0.531337\n",
            "0    0.468663\n",
            "Name: proportion, dtype: float64\n",
            "\n",
            "Test:\n",
            "label\n",
            "1    0.531125\n",
            "0    0.468875\n",
            "Name: proportion, dtype: float64\n",
            "\n"
          ]
        }
      ]
    },
    {
      "cell_type": "code",
      "source": [
        "# Guardar CSVs\n",
        "\n",
        "# Crear subcarpeta para los CSVs\n",
        "csv_folder = os.path.join(output_folder, \"csv_splits\")\n",
        "os.makedirs(csv_folder, exist_ok=True)\n",
        "\n",
        "train_df.to_csv(os.path.join(csv_folder, \"train.csv\"), index=False)\n",
        "val_df.to_csv(os.path.join(csv_folder, \"val.csv\"), index=False)\n",
        "test_df.to_csv(os.path.join(csv_folder, \"test.csv\"), index=False)"
      ],
      "metadata": {
        "id": "QWXwwFrlGzW8"
      },
      "execution_count": null,
      "outputs": []
    },
    {
      "cell_type": "code",
      "source": [
        "import json\n",
        "\n",
        "# Crear archivo de configuración y label mapping\n",
        "config = {\n",
        "    'total_images': len(df),\n",
        "    'train_size': len(train_df),\n",
        "    'val_size': len(val_df),\n",
        "    'test_size': len(test_df),\n",
        "    'random_seed': 42,\n",
        "    'stratify_column': DIAGNOSIS_COLUMN,\n",
        "    'images_folder': images_folder,\n",
        "    'class_distribution': df[DIAGNOSIS_COLUMN].value_counts().to_dict()\n",
        "}\n",
        "\n",
        "# Guardar mapeo de etiquetas\n",
        "mapping_path = os.path.join(output_folder, \"label_mapping.json\")\n",
        "with open(mapping_path, \"w\") as f:\n",
        "    json.dump(label_mapping, f, indent=4)\n",
        "\n",
        "# Guardar info del split\n",
        "split_info_path = os.path.join(output_folder, \"split_info.json\")\n",
        "with open(split_info_path, \"w\") as f:\n",
        "    json.dump(config, f, indent=2)"
      ],
      "metadata": {
        "id": "sLKCGN3kLtd8"
      },
      "execution_count": null,
      "outputs": []
    }
  ]
}