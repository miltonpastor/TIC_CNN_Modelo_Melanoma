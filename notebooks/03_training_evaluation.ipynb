{
 "cells": [
  {
   "cell_type": "markdown",
   "id": "179d226f",
   "metadata": {},
   "source": [
    "# Entrenamiento y Evaluación del Modelo CNN para Melanoma"
   ]
  },
  {
   "cell_type": "code",
   "execution_count": null,
   "id": "7df31c9a",
   "metadata": {},
   "outputs": [],
   "source": [
    "import os\n",
    "import sys\n",
    "\n",
    "sys.path.append(os.path.abspath('../src'))\n",
    "#sys.path.append(os.path.abspath('/content/TIC_CNN_Modelo_Melanoma/src')) # Descomentar si se usa Colab\n",
    "\n",
    "from data.data_loader import load_and_clean_data\n",
    "from data.split_data import create_splits\n",
    "from data.preprocessing import create_data_generators, create_data_flow_from_dataframe\n",
    "from config.config import MODEL_CONFIG, TRAINING_CONFIG, SAMPLE_SIZE\n",
    "from models.transfer_learning import build_resnet50_classifier\n",
    "from training.train import TwoStageTrainer\n",
    "from evaluation.plots import plot_two_stage_training"
   ]
  },
  {
   "cell_type": "markdown",
   "id": "c6d0abb0",
   "metadata": {},
   "source": [
    "### 1. Entrenamiento del Modelo"
   ]
  },
  {
   "cell_type": "code",
   "execution_count": null,
   "id": "2118a377",
   "metadata": {},
   "outputs": [],
   "source": [
    "# Cargar datos procesados\n",
    "df = load_and_clean_data(sample_size=SAMPLE_SIZE)\n",
    "train_df, val_df, test_df = create_splits(df)\n",
    "\n",
    "# Crear generadores de datos\n",
    "td, vtd = create_data_generators()\n",
    "train_gen = create_data_flow_from_dataframe(td, train_df)\n",
    "val_gen = create_data_flow_from_dataframe(vtd, val_df, shuffle=False)\n",
    "test_gen = create_data_flow_from_dataframe(vtd, test_df, shuffle=False)\n",
    "\n",
    "# Construir y entrenar modelo\n",
    "model, base = build_resnet50_classifier(**MODEL_CONFIG)\n",
    "trainer = TwoStageTrainer(model, base, TRAINING_CONFIG)\n",
    "history_a = trainer.stage_a_head_training(train_gen, val_gen)\n",
    "history_b = trainer.stage_b_fine_tuning(train_gen, val_gen)\n"
   ]
  },
  {
   "cell_type": "markdown",
   "id": "85f6fc62",
   "metadata": {},
   "source": [
    "### 2. Evaluación del Modelo"
   ]
  },
  {
   "cell_type": "code",
   "execution_count": null,
   "id": "0d6662f5",
   "metadata": {},
   "outputs": [],
   "source": [
    "test_loss, test_acc, test_auc = trainer.model.evaluate(test_gen)\n",
    "print(f\"Test Accuracy: {test_acc:.4f}, Test AUC: {test_auc:.4f}, Test Loss: {test_loss:.4f}\")"
   ]
  },
  {
   "cell_type": "markdown",
   "id": "6724c78a",
   "metadata": {},
   "source": [
    "### 3. Visualización de Resultados"
   ]
  },
  {
   "cell_type": "code",
   "execution_count": null,
   "id": "22691cc2",
   "metadata": {},
   "outputs": [],
   "source": [
    "\n",
    "plot_two_stage_training(history_a, history_b)"
   ]
  }
 ],
 "metadata": {
  "language_info": {
   "name": "python"
  }
 },
 "nbformat": 4,
 "nbformat_minor": 5
}
