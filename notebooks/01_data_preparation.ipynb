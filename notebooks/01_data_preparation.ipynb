{
 "cells": [
  {
   "cell_type": "markdown",
   "id": "81d91a18",
   "metadata": {},
   "source": [
    "# Preparación de Datos - Modelo CNN Melanoma\n",
    "\n",
    "Este notebook utiliza los módulos creados en `src/` para preparar los datos."
   ]
  },
  {
   "cell_type": "code",
   "execution_count": null,
   "id": "59939776",
   "metadata": {},
   "outputs": [],
   "source": [
    "import os\n",
    "import sys\n",
    "from google.colab import drive\n",
    "\n",
    "# Montar Google Drive\n",
    "drive.mount('/content/drive')"
   ]
  },
  {
   "cell_type": "code",
   "execution_count": null,
   "id": "2a9d1af3",
   "metadata": {},
   "outputs": [],
   "source": [
    "# Agregar src al path\n",
    "sys.path.append('/content/drive/MyDrive/TIC_CNN_Modelo_Melanoma')\n",
    "\n",
    "from src.data.data_loader import load_and_clean_data\n",
    "from src.data.split_data import create_splits\n",
    "from src.config.config import OUTPUT_FOLDER, CSV_SPLIT_FOLDER"
   ]
  },
  {
   "cell_type": "code",
   "execution_count": null,
   "id": "f45d4fee",
   "metadata": {},
   "outputs": [],
   "source": [
    "# Crear carpeta de salida\n",
    "os.makedirs(OUTPUT_FOLDER, exist_ok=True)"
   ]
  },
  {
   "cell_type": "markdown",
   "id": "0b05076a",
   "metadata": {},
   "source": [
    "## 1. Cargar y limpiar datos"
   ]
  },
  {
   "cell_type": "code",
   "execution_count": null,
   "id": "3408809a",
   "metadata": {},
   "outputs": [],
   "source": [
    "df_simple = load_and_clean_data()\n",
    "print(f\"Total de imágenes: {len(df_simple)}\")\n",
    "print(f\"\\nDistribución de clases:\")\n",
    "print(df_simple['label'].value_counts())"
   ]
  },
  {
   "cell_type": "markdown",
   "id": "703412b4",
   "metadata": {},
   "source": [
    "## 2. División de datos (Train/Val/Test)"
   ]
  },
  {
   "cell_type": "code",
   "execution_count": null,
   "id": "5bca9467",
   "metadata": {},
   "outputs": [],
   "source": [
    "train_df, val_df, test_df = create_splits(df_simple)\n",
    "\n",
    "print(f\"Train: {len(train_df)} imágenes\")\n",
    "print(f\"Val: {len(val_df)} imágenes\")\n",
    "print(f\"Test: {len(test_df)} imágenes\")"
   ]
  },
  {
   "cell_type": "markdown",
   "id": "4fb98ef9",
   "metadata": {},
   "source": [
    "## 3. Verificar estratificación"
   ]
  },
  {
   "cell_type": "code",
   "execution_count": null,
   "id": "4ca2366c",
   "metadata": {},
   "outputs": [],
   "source": [
    "print(\"Distribución en Train:\")\n",
    "print(train_df['label'].value_counts(normalize=True))\n",
    "print(\"\\nDistribución en Val:\")\n",
    "print(val_df['label'].value_counts(normalize=True))\n",
    "print(\"\\nDistribución en Test:\")\n",
    "print(test_df['label'].value_counts(normalize=True))"
   ]
  },
  {
   "cell_type": "markdown",
   "id": "c9857589",
   "metadata": {},
   "source": [
    "## 4. Verificar archivos guardados"
   ]
  },
  {
   "cell_type": "code",
   "execution_count": null,
   "id": "d313afbc",
   "metadata": {},
   "outputs": [],
   "source": [
    "print(f\"Archivos CSV guardados en: {CSV_SPLIT_FOLDER}\")\n",
    "print(\"\\nArchivos creados:\")\n",
    "for file in os.listdir(CSV_SPLIT_FOLDER):\n",
    "    filepath = os.path.join(CSV_SPLIT_FOLDER, file)\n",
    "    if file.endswith('.csv'):\n",
    "        df_check = pd.read_csv(filepath)\n",
    "        print(f\"  - {file}: {len(df_check)} filas\")"
   ]
  }
 ],
 "metadata": {
  "language_info": {
   "name": "python"
  }
 },
 "nbformat": 4,
 "nbformat_minor": 5
}
