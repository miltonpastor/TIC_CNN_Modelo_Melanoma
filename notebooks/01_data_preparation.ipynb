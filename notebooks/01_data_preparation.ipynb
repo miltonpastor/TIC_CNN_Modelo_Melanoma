{
 "cells": [
  {
   "cell_type": "markdown",
   "id": "81d91a18",
   "metadata": {},
   "source": [
    "# Preparación de Datos \n",
    "\n",
    "Este notebook utiliza los módulos creados en `src/data` para preparar los datos."
   ]
  },
  {
   "cell_type": "code",
   "execution_count": 3,
   "id": "59939776",
   "metadata": {},
   "outputs": [],
   "source": [
    "import os\n",
    "import sys\n"
   ]
  },
  {
   "cell_type": "code",
   "execution_count": null,
   "id": "2a9d1af3",
   "metadata": {},
   "outputs": [],
   "source": [
    "# Agregar src al path\n",
    "sys.path.append(os.path.abspath('../src'))\n",
    "#sys.path.append(os.path.abspath('/content/TIC_CNN_Modelo_Melanoma/src')) # Descomentar si se usa Colab\n",
    "\n",
    "\n",
    "from data.data_loader import load_and_clean_data\n",
    "from data.split_data import create_splits\n",
    "from config.config import OUTPUT_FOLDER, CSV_SPLIT_FOLDER"
   ]
  },
  {
   "cell_type": "code",
   "execution_count": 48,
   "id": "f45d4fee",
   "metadata": {},
   "outputs": [],
   "source": [
    "# Crear carpeta de salida\n",
    "os.makedirs(OUTPUT_FOLDER, exist_ok=True)"
   ]
  },
  {
   "cell_type": "markdown",
   "id": "0b05076a",
   "metadata": {},
   "source": [
    "### 1. Cargar y limpiar datos"
   ]
  },
  {
   "cell_type": "code",
   "execution_count": 49,
   "id": "3408809a",
   "metadata": {},
   "outputs": [
    {
     "name": "stdout",
     "output_type": "stream",
     "text": [
      "Total de imágenes: 16702\n",
      "\n",
      "Distribución de clases:\n",
      "label\n",
      "1    8871\n",
      "0    7831\n",
      "Name: count, dtype: int64\n"
     ]
    }
   ],
   "source": [
    "df_simple = load_and_clean_data()\n",
    "print(f\"Total de imágenes: {len(df_simple)}\")\n",
    "print(f\"\\nDistribución de clases:\")\n",
    "print(df_simple['label'].value_counts())"
   ]
  },
  {
   "cell_type": "markdown",
   "id": "703412b4",
   "metadata": {},
   "source": [
    "### 2. División de datos (Train/Val/Test)"
   ]
  },
  {
   "cell_type": "code",
   "execution_count": 50,
   "id": "5bca9467",
   "metadata": {},
   "outputs": [
    {
     "name": "stdout",
     "output_type": "stream",
     "text": [
      "Train: 11691 imágenes\n",
      "Val: 2505 imágenes\n",
      "Test: 2506 imágenes\n"
     ]
    }
   ],
   "source": [
    "train_df, val_df, test_df = create_splits(df_simple)\n",
    "\n",
    "print(f\"Train: {len(train_df)} imágenes\")\n",
    "print(f\"Val: {len(val_df)} imágenes\")\n",
    "print(f\"Test: {len(test_df)} imágenes\")"
   ]
  },
  {
   "cell_type": "markdown",
   "id": "4fb98ef9",
   "metadata": {},
   "source": [
    "### 3. Verificar estratificación"
   ]
  },
  {
   "cell_type": "code",
   "execution_count": 51,
   "id": "4ca2366c",
   "metadata": {},
   "outputs": [
    {
     "name": "stdout",
     "output_type": "stream",
     "text": [
      "Distribución en Train:\n",
      "label\n",
      "1    0.531092\n",
      "0    0.468908\n",
      "Name: proportion, dtype: float64\n",
      "\n",
      "Distribución en Val:\n",
      "label\n",
      "1    0.531337\n",
      "0    0.468663\n",
      "Name: proportion, dtype: float64\n",
      "\n",
      "Distribución en Test:\n",
      "label\n",
      "1    0.531125\n",
      "0    0.468875\n",
      "Name: proportion, dtype: float64\n"
     ]
    }
   ],
   "source": [
    "print(\"Distribución en Train:\")\n",
    "print(train_df['label'].value_counts(normalize=True))\n",
    "print(\"\\nDistribución en Val:\")\n",
    "print(val_df['label'].value_counts(normalize=True))\n",
    "print(\"\\nDistribución en Test:\")\n",
    "print(test_df['label'].value_counts(normalize=True))"
   ]
  }
 ],
 "metadata": {
  "kernelspec": {
   "display_name": "tfenv",
   "language": "python",
   "name": "python3"
  },
  "language_info": {
   "codemirror_mode": {
    "name": "ipython",
    "version": 3
   },
   "file_extension": ".py",
   "mimetype": "text/x-python",
   "name": "python",
   "nbconvert_exporter": "python",
   "pygments_lexer": "ipython3",
   "version": "3.11.14"
  }
 },
 "nbformat": 4,
 "nbformat_minor": 5
}
